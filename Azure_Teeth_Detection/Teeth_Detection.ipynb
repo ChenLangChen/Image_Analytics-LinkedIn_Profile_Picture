{
 "cells": [
  {
   "cell_type": "code",
   "execution_count": null,
   "metadata": {
    "colab": {
     "base_uri": "https://localhost:8080/"
    },
    "id": "KwqXOwy7Ond5",
    "outputId": "dc9322f1-1543-4acf-897b-65e001cd7f0a"
   },
   "outputs": [
    {
     "name": "stdout",
     "output_type": "stream",
     "text": [
      "Mounted at /content/drive\n"
     ]
    }
   ],
   "source": [
    "from google.colab import drive \n",
    "drive.mount('/content/drive')"
   ]
  },
  {
   "cell_type": "code",
   "execution_count": null,
   "metadata": {
    "id": "qNdGce5tO0SK"
   },
   "outputs": [],
   "source": [
    "!cp /content/drive/'My Drive'/DeepLearning/AI_Australia_Assignment/img_info.csv ."
   ]
  },
  {
   "cell_type": "code",
   "execution_count": 2,
   "metadata": {
    "id": "3VbJfBlBX6b-"
   },
   "outputs": [],
   "source": [
    "import pandas as pd\n",
    "import pathlib\n",
    "import shutil\n",
    "import tempfile\n",
    "import numpy as np\n",
    "import matplotlib.pyplot as plt\n",
    "import seaborn as sb\n",
    "import statistics "
   ]
  },
  {
   "cell_type": "code",
   "execution_count": 15,
   "metadata": {
    "id": "kctbUocSXunn"
   },
   "outputs": [],
   "source": [
    "train_df = pd.read_csv(\"./img_info.csv\")"
   ]
  },
  {
   "cell_type": "code",
   "execution_count": 16,
   "metadata": {},
   "outputs": [
    {
     "data": {
      "text/html": [
       "<div>\n",
       "<style scoped>\n",
       "    .dataframe tbody tr th:only-of-type {\n",
       "        vertical-align: middle;\n",
       "    }\n",
       "\n",
       "    .dataframe tbody tr th {\n",
       "        vertical-align: top;\n",
       "    }\n",
       "\n",
       "    .dataframe thead th {\n",
       "        text-align: right;\n",
       "    }\n",
       "</style>\n",
       "<table border=\"1\" class=\"dataframe\">\n",
       "  <thead>\n",
       "    <tr style=\"text-align: right;\">\n",
       "      <th></th>\n",
       "      <th>img_name</th>\n",
       "      <th>smile</th>\n",
       "      <th>under_lip_thickness</th>\n",
       "      <th>lips_distance</th>\n",
       "      <th>teeth</th>\n",
       "    </tr>\n",
       "  </thead>\n",
       "  <tbody>\n",
       "    <tr>\n",
       "      <th>0</th>\n",
       "      <td>1.jpg</td>\n",
       "      <td>0.005</td>\n",
       "      <td>9.0</td>\n",
       "      <td>4.2</td>\n",
       "      <td>0</td>\n",
       "    </tr>\n",
       "    <tr>\n",
       "      <th>1</th>\n",
       "      <td>2.jpg</td>\n",
       "      <td>0.002</td>\n",
       "      <td>10.4</td>\n",
       "      <td>1.3</td>\n",
       "      <td>0</td>\n",
       "    </tr>\n",
       "    <tr>\n",
       "      <th>2</th>\n",
       "      <td>3.jpg</td>\n",
       "      <td>1.000</td>\n",
       "      <td>3.6</td>\n",
       "      <td>0.8</td>\n",
       "      <td>1</td>\n",
       "    </tr>\n",
       "    <tr>\n",
       "      <th>3</th>\n",
       "      <td>4.jpg</td>\n",
       "      <td>1.000</td>\n",
       "      <td>4.7</td>\n",
       "      <td>2.2</td>\n",
       "      <td>1</td>\n",
       "    </tr>\n",
       "    <tr>\n",
       "      <th>4</th>\n",
       "      <td>5.jpg</td>\n",
       "      <td>1.000</td>\n",
       "      <td>7.0</td>\n",
       "      <td>8.6</td>\n",
       "      <td>1</td>\n",
       "    </tr>\n",
       "  </tbody>\n",
       "</table>\n",
       "</div>"
      ],
      "text/plain": [
       "  img_name  smile  under_lip_thickness  lips_distance  teeth\n",
       "0    1.jpg  0.005                  9.0            4.2      0\n",
       "1    2.jpg  0.002                 10.4            1.3      0\n",
       "2    3.jpg  1.000                  3.6            0.8      1\n",
       "3    4.jpg  1.000                  4.7            2.2      1\n",
       "4    5.jpg  1.000                  7.0            8.6      1"
      ]
     },
     "execution_count": 16,
     "metadata": {},
     "output_type": "execute_result"
    }
   ],
   "source": [
    "train_df.head()"
   ]
  },
  {
   "cell_type": "code",
   "execution_count": 17,
   "metadata": {
    "id": "ZuN6w9d2WkOy"
   },
   "outputs": [
    {
     "data": {
      "text/html": [
       "<div>\n",
       "<style scoped>\n",
       "    .dataframe tbody tr th:only-of-type {\n",
       "        vertical-align: middle;\n",
       "    }\n",
       "\n",
       "    .dataframe tbody tr th {\n",
       "        vertical-align: top;\n",
       "    }\n",
       "\n",
       "    .dataframe thead th {\n",
       "        text-align: right;\n",
       "    }\n",
       "</style>\n",
       "<table border=\"1\" class=\"dataframe\">\n",
       "  <thead>\n",
       "    <tr style=\"text-align: right;\">\n",
       "      <th></th>\n",
       "      <th>img_name</th>\n",
       "      <th>smile</th>\n",
       "      <th>teeth</th>\n",
       "      <th>ratio</th>\n",
       "    </tr>\n",
       "  </thead>\n",
       "  <tbody>\n",
       "    <tr>\n",
       "      <th>0</th>\n",
       "      <td>1.jpg</td>\n",
       "      <td>0.005</td>\n",
       "      <td>0</td>\n",
       "      <td>0.466667</td>\n",
       "    </tr>\n",
       "    <tr>\n",
       "      <th>1</th>\n",
       "      <td>2.jpg</td>\n",
       "      <td>0.002</td>\n",
       "      <td>0</td>\n",
       "      <td>0.125000</td>\n",
       "    </tr>\n",
       "    <tr>\n",
       "      <th>2</th>\n",
       "      <td>3.jpg</td>\n",
       "      <td>1.000</td>\n",
       "      <td>1</td>\n",
       "      <td>0.222222</td>\n",
       "    </tr>\n",
       "    <tr>\n",
       "      <th>3</th>\n",
       "      <td>4.jpg</td>\n",
       "      <td>1.000</td>\n",
       "      <td>1</td>\n",
       "      <td>0.468085</td>\n",
       "    </tr>\n",
       "    <tr>\n",
       "      <th>4</th>\n",
       "      <td>5.jpg</td>\n",
       "      <td>1.000</td>\n",
       "      <td>1</td>\n",
       "      <td>1.228571</td>\n",
       "    </tr>\n",
       "  </tbody>\n",
       "</table>\n",
       "</div>"
      ],
      "text/plain": [
       "  img_name  smile  teeth     ratio\n",
       "0    1.jpg  0.005      0  0.466667\n",
       "1    2.jpg  0.002      0  0.125000\n",
       "2    3.jpg  1.000      1  0.222222\n",
       "3    4.jpg  1.000      1  0.468085\n",
       "4    5.jpg  1.000      1  1.228571"
      ]
     },
     "execution_count": 17,
     "metadata": {},
     "output_type": "execute_result"
    }
   ],
   "source": [
    "# Creating the lips_distance/under_lip_thickness column\n",
    "train_df['ratio'] = train_df.apply(lambda row: (row.lips_distance / row.under_lip_thickness), axis=1) \n",
    "# Drop the irrelevant columns: under_lip_thickness, lips_distance\n",
    "train_df.drop(['under_lip_thickness', 'lips_distance'], axis=1, inplace=True)\n",
    "train_df.head()"
   ]
  },
  {
   "cell_type": "markdown",
   "metadata": {
    "id": "xNwrlOsULPmN"
   },
   "source": [
    "# Explore the data\n",
    "In order to detect the teeth, we look at the smile index ('smile') and the ratio between lips distance and under lip thickness ('percent').\n",
    "We can't simply look at the distance between upper and under lips, as the sizes of pictures are different. "
   ]
  },
  {
   "cell_type": "code",
   "execution_count": null,
   "metadata": {},
   "outputs": [],
   "source": [
    "train_df.count()[0]"
   ]
  },
  {
   "cell_type": "code",
   "execution_count": 11,
   "metadata": {
    "colab": {
     "base_uri": "https://localhost:8080/",
     "height": 204
    },
    "id": "xFHlnvwceiI9",
    "outputId": "86ef8aa0-90f6-4892-b21b-c10c550d8ebc"
   },
   "outputs": [
    {
     "data": {
      "text/html": [
       "<div>\n",
       "<style scoped>\n",
       "    .dataframe tbody tr th:only-of-type {\n",
       "        vertical-align: middle;\n",
       "    }\n",
       "\n",
       "    .dataframe tbody tr th {\n",
       "        vertical-align: top;\n",
       "    }\n",
       "\n",
       "    .dataframe thead th {\n",
       "        text-align: right;\n",
       "    }\n",
       "</style>\n",
       "<table border=\"1\" class=\"dataframe\">\n",
       "  <thead>\n",
       "    <tr style=\"text-align: right;\">\n",
       "      <th></th>\n",
       "      <th>img_name</th>\n",
       "      <th>smile</th>\n",
       "      <th>teeth</th>\n",
       "      <th>ratio</th>\n",
       "    </tr>\n",
       "  </thead>\n",
       "  <tbody>\n",
       "    <tr>\n",
       "      <th>0</th>\n",
       "      <td>1.jpg</td>\n",
       "      <td>0.005</td>\n",
       "      <td>0</td>\n",
       "      <td>0.466667</td>\n",
       "    </tr>\n",
       "    <tr>\n",
       "      <th>1</th>\n",
       "      <td>2.jpg</td>\n",
       "      <td>0.002</td>\n",
       "      <td>0</td>\n",
       "      <td>0.125000</td>\n",
       "    </tr>\n",
       "    <tr>\n",
       "      <th>2</th>\n",
       "      <td>3.jpg</td>\n",
       "      <td>1.000</td>\n",
       "      <td>1</td>\n",
       "      <td>0.222222</td>\n",
       "    </tr>\n",
       "    <tr>\n",
       "      <th>3</th>\n",
       "      <td>4.jpg</td>\n",
       "      <td>1.000</td>\n",
       "      <td>1</td>\n",
       "      <td>0.468085</td>\n",
       "    </tr>\n",
       "    <tr>\n",
       "      <th>4</th>\n",
       "      <td>5.jpg</td>\n",
       "      <td>1.000</td>\n",
       "      <td>1</td>\n",
       "      <td>1.228571</td>\n",
       "    </tr>\n",
       "  </tbody>\n",
       "</table>\n",
       "</div>"
      ],
      "text/plain": [
       "  img_name  smile  teeth     ratio\n",
       "0    1.jpg  0.005      0  0.466667\n",
       "1    2.jpg  0.002      0  0.125000\n",
       "2    3.jpg  1.000      1  0.222222\n",
       "3    4.jpg  1.000      1  0.468085\n",
       "4    5.jpg  1.000      1  1.228571"
      ]
     },
     "execution_count": 11,
     "metadata": {},
     "output_type": "execute_result"
    }
   ],
   "source": [
    "train_df.head()"
   ]
  },
  {
   "cell_type": "code",
   "execution_count": 12,
   "metadata": {
    "colab": {
     "base_uri": "https://localhost:8080/"
    },
    "id": "LOCCA5G1VnEw",
    "outputId": "b2b94202-13b5-4235-d91b-1f1f8a474f7d"
   },
   "outputs": [
    {
     "data": {
      "text/plain": [
       "1    147\n",
       "0    135\n",
       "Name: teeth, dtype: int64"
      ]
     },
     "execution_count": 12,
     "metadata": {},
     "output_type": "execute_result"
    }
   ],
   "source": [
    "train_df['teeth'].value_counts()"
   ]
  },
  {
   "cell_type": "markdown",
   "metadata": {
    "id": "0Gbgdn6RZRci"
   },
   "source": [
    "## Exploring the correlation among attributes using heatmap"
   ]
  },
  {
   "cell_type": "code",
   "execution_count": 21,
   "metadata": {
    "colab": {
     "base_uri": "https://localhost:8080/",
     "height": 476
    },
    "id": "Nao0XXzdVw1L",
    "outputId": "c6d270e2-c354-42a5-ed71-01fcb5247fdb"
   },
   "outputs": [
    {
     "data": {
      "image/png": "[encoded data removed]",
      "text/plain": [
       "<Figure size 576x576 with 2 Axes>"
      ]
     },
     "metadata": {
      "needs_background": "light"
     },
     "output_type": "display_data"
    }
   ],
   "source": [
    "correlations = train_df.corr()\n",
    "# Set up the matplotlib figure\n",
    "f, ax = plt.subplots(figsize=(8, 8))\n",
    "# Draw the heatmap with the mask and correct aspect ratio\n",
    "sb.heatmap(correlations, cmap=\"RdBu\", center=0, vmin=-1, vmax=1, square=True, annot=True, fmt = '.1%')\n",
    "#for t in ax.texts: t.set_text(t.get_text() + \" %\")\n",
    "plt.show()"
   ]
  },
  {
   "cell_type": "markdown",
   "metadata": {
    "id": "3_U9VAeWkgu8"
   },
   "source": [
    "### Observation\n",
    "There's a higher correlation between 'teeth' and 'percent' than between 'teeth' and 'smile'. "
   ]
  },
  {
   "cell_type": "markdown",
   "metadata": {
    "id": "ZTaTHyBKa2zz"
   },
   "source": [
    "## Exploring the distribution among 'smile'"
   ]
  },
  {
   "cell_type": "code",
   "execution_count": null,
   "metadata": {
    "colab": {
     "base_uri": "https://localhost:8080/",
     "height": 296
    },
    "id": "rSQXc8DOXhMb",
    "outputId": "135d2dec-e6e7-4a4b-af46-a607ad32e520"
   },
   "outputs": [
    {
     "data": {
      "text/plain": [
       "Text(0.5, 0, 'Smile')"
      ]
     },
     "execution_count": 11,
     "metadata": {
      "tags": []
     },
     "output_type": "execute_result"
    },
    {
     "data": {
      "image/png": "[encoded data removed]",
      "text/plain": [
       "<Figure size 432x288 with 1 Axes>"
      ]
     },
     "metadata": {
      "needs_background": "light",
      "tags": []
     },
     "output_type": "display_data"
    }
   ],
   "source": [
    "%matplotlib inline\n",
    "x = train_df['smile'].tolist()\n",
    "# plt.hist(x, density=True, bins=20)  # density=False would make counts\n",
    "plt.hist(x, density=False, bins=20)  # density=False would make counts\n",
    "plt.ylabel('Counts')\n",
    "plt.xlabel('Smile')"
   ]
  },
  {
   "cell_type": "markdown",
   "metadata": {
    "id": "sanOcLQ5f-mQ"
   },
   "source": [
    "## Exploring the distribution among 'percent'"
   ]
  },
  {
   "cell_type": "code",
   "execution_count": null,
   "metadata": {
    "colab": {
     "base_uri": "https://localhost:8080/",
     "height": 296
    },
    "id": "0XYMocKnfbm-",
    "outputId": "a51270b6-e425-450c-e49b-48222294b892"
   },
   "outputs": [
    {
     "data": {
      "text/plain": [
       "Text(0.5, 0, 'Percent')"
      ]
     },
     "execution_count": 12,
     "metadata": {
      "tags": []
     },
     "output_type": "execute_result"
    },
    {
     "data": {
      "image/png": "[encoded data removed]",
      "text/plain": [
       "<Figure size 432x288 with 1 Axes>"
      ]
     },
     "metadata": {
      "needs_background": "light",
      "tags": []
     },
     "output_type": "display_data"
    }
   ],
   "source": [
    "x = train_df['percent'].tolist()\n",
    "# plt.hist(x, density=True, bins=20)  # density=False would make counts\n",
    "plt.hist(x, density=False, bins=20)  # density=False would make counts\n",
    "plt.ylabel('Counts')\n",
    "plt.xlabel('Percent')"
   ]
  },
  {
   "cell_type": "markdown",
   "metadata": {
    "id": "7bf0MVvjnGm_"
   },
   "source": [
    "'percent' and 'smile' are in a similar range, so I'll skip data normalisation. "
   ]
  },
  {
   "cell_type": "markdown",
   "metadata": {
    "id": "xfKxkdeIo9H9"
   },
   "source": [
    "# Training setup"
   ]
  },
  {
   "cell_type": "markdown",
   "metadata": {
    "id": "kCLhRad5pCHE"
   },
   "source": [
    "## Cross validation \n",
    "Given a limited amount of data set, with cross validation, we can miximize the number of data entries in both training set and validation set. It gives us a better representation of how well the model works than simply selecting a fixed portion out of the data set as validation set and the rest as trainning set."
   ]
  },
  {
   "cell_type": "code",
   "execution_count": null,
   "metadata": {
    "id": "XzE9_gXPgIWU"
   },
   "outputs": [],
   "source": [
    "from sklearn import model_selection"
   ]
  },
  {
   "cell_type": "code",
   "execution_count": null,
   "metadata": {
    "id": "7B2oUvP3qIPu"
   },
   "outputs": [],
   "source": [
    "number_split = 6\n",
    "kFold = model_selection.KFold(n_splits=number_split, shuffle=True, random_state = 3)"
   ]
  },
  {
   "cell_type": "markdown",
   "metadata": {
    "id": "scptk9oBrOAZ"
   },
   "source": [
    "## Metric: accuracy score\n",
    "This is a binary classification. False positive or false negative doesn't come at a higher cost than one another, so we pick accuracy score as our evaluation metric. \n",
    "\n",
    " "
   ]
  },
  {
   "cell_type": "code",
   "execution_count": null,
   "metadata": {
    "id": "EexKIBniqPlh"
   },
   "outputs": [],
   "source": [
    "from sklearn.metrics import accuracy_score"
   ]
  },
  {
   "cell_type": "markdown",
   "metadata": {
    "id": "fFpItwLsyMbF"
   },
   "source": [
    "## Splitting attributes and predictions as X,Y"
   ]
  },
  {
   "cell_type": "code",
   "execution_count": null,
   "metadata": {
    "id": "h7_jGucWy7Tc"
   },
   "outputs": [],
   "source": [
    "Train_X = train_df[['smile','percent']]\n",
    "Train_Y = train_df['teeth']"
   ]
  },
  {
   "cell_type": "markdown",
   "metadata": {
    "id": "OV0vvRBvsSS5"
   },
   "source": [
    "# Start training "
   ]
  },
  {
   "cell_type": "markdown",
   "metadata": {
    "id": "JxA5TWOIwIO7"
   },
   "source": [
    "## Algorithm choice: Logistic regression for this binary classification task. "
   ]
  },
  {
   "cell_type": "code",
   "execution_count": null,
   "metadata": {
    "id": "QRYFyT9WsWbo"
   },
   "outputs": [],
   "source": [
    "from sklearn.linear_model import LogisticRegression"
   ]
  },
  {
   "cell_type": "code",
   "execution_count": null,
   "metadata": {
    "colab": {
     "base_uri": "https://localhost:8080/"
    },
    "id": "nT6eAlzjw9sr",
    "outputId": "79331c4a-6c8e-47c3-dc5a-f1cfe70a0762"
   },
   "outputs": [
    {
     "name": "stdout",
     "output_type": "stream",
     "text": [
      "Mean of train set accuracy:  0.8978723404255319\n",
      "Mean of validation set accuracy:  0.8971631205673759\n"
     ]
    }
   ],
   "source": [
    "Results_Val=[]  # For storing result from the validation set\n",
    "Results_Train=[] # For storing result from the Training set\n",
    "\n",
    "for trainIndex, valIndex in kFold.split(Train_X):\n",
    "  # Get the training and validation data\n",
    "  train_x = Train_X.loc[trainIndex]\n",
    "  train_y = Train_Y.loc[trainIndex]\n",
    "  valid_x = Train_X.loc[valIndex]\n",
    "  valid_y = Train_Y.loc[valIndex]\n",
    "\n",
    "  # Fit the model\n",
    "  lr = LogisticRegression(random_state=1).fit(train_x, train_y)\n",
    "  # For validation set\n",
    "  val_pred_Y = lr.predict(valid_x)\n",
    "  val_accuracy = accuracy_score(valid_y, val_pred_Y)\n",
    "  Results_Val.append(val_accuracy)\n",
    "\n",
    "  # For training set\n",
    "  train_pred_Y = lr.predict(train_x)\n",
    "  train_accuracy = accuracy_score(train_y, train_pred_Y)\n",
    "  Results_Train.append(train_accuracy)\n",
    "\n",
    "# Calculate the mean of results after this 10-fold cross validation for training set and validation set.\n",
    "mean_train = statistics.mean(Results_Train)\n",
    "print('Mean of train set accuracy: ', mean_train)\n",
    "mean_val = statistics.mean(Results_Val)\n",
    "print('Mean of validation set accuracy: ', mean_val)\n"
   ]
  },
  {
   "cell_type": "markdown",
   "metadata": {
    "id": "7g9FLzZz6fmO"
   },
   "source": [
    "### Observation\n",
    "The training set and the validation set have similar accuracy "
   ]
  },
  {
   "cell_type": "code",
   "execution_count": null,
   "metadata": {
    "id": "PkRt9wmfw9kf"
   },
   "outputs": [],
   "source": [
    "# Saving the model\n",
    "import pickle\n",
    "filename = 'saved_model.sav'\n",
    "pickle.dump(lr, open(filename, 'wb'))\n",
    "\n",
    "# Saving the model to local disk\n",
    "!cp -r ./saved_model.sav /content/drive/'My Drive'/DeepLearning/AI_Australia_Assignment/"
   ]
  },
  {
   "cell_type": "code",
   "execution_count": null,
   "metadata": {
    "id": "o2ndXoXsw9c3"
   },
   "outputs": [],
   "source": [
    "# some time later...\n",
    "# Loading the model from local disk\n",
    "!cp -r /content/drive/'My Drive'/DeepLearning/AI_Australia_Assignment/saved_model.sav .\n",
    "\n",
    "loaded_model = pickle.load(open(filename, 'rb'))"
   ]
  },
  {
   "cell_type": "code",
   "execution_count": null,
   "metadata": {
    "id": "p-b-Dez9DdH4"
   },
   "outputs": [],
   "source": [
    "def predict_teeth(my_model, smile, percent):\n",
    "  # Given 'smile' and 'percent', predict whether teeth is detected.\n",
    "  my_array = [[smile, percent]]\n",
    "  result = my_model.predict(my_array)\n",
    "  return result[0]"
   ]
  },
  {
   "cell_type": "code",
   "execution_count": null,
   "metadata": {
    "colab": {
     "base_uri": "https://localhost:8080/"
    },
    "id": "0lCOh3W-Bfom",
    "outputId": "45f04b20-56dc-40b8-87bf-697cb1f742fd"
   },
   "outputs": [
    {
     "data": {
      "text/plain": [
       "1"
      ]
     },
     "execution_count": 85,
     "metadata": {
      "tags": []
     },
     "output_type": "execute_result"
    }
   ],
   "source": [
    "predict_teeth(loaded_model, 1, 0.6)"
   ]
  },
  {
   "cell_type": "code",
   "execution_count": null,
   "metadata": {
    "id": "B5uybl1WG1KB"
   },
   "outputs": [],
   "source": []
  }
 ],
 "metadata": {
  "colab": {
   "collapsed_sections": [],
   "name": "Teeth_Detection.ipynb",
   "provenance": [],
   "toc_visible": true
  },
  "kernelspec": {
   "display_name": "Python 3",
   "language": "python",
   "name": "python3"
  },
  "language_info": {
   "codemirror_mode": {
    "name": "ipython",
    "version": 3
   },
   "file_extension": ".py",
   "mimetype": "text/x-python",
   "name": "python",
   "nbconvert_exporter": "python",
   "pygments_lexer": "ipython3",
   "version": "3.9.1"
  }
 },
 "nbformat": 4,
 "nbformat_minor": 1
}
