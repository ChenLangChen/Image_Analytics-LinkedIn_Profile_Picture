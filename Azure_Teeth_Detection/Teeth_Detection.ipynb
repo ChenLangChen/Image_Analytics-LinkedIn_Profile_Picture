{
  "nbformat": 4,
  "nbformat_minor": 0,
  "metadata": {
    "colab": {
      "name": "Teeth_Detection.ipynb",
      "provenance": [],
      "collapsed_sections": [],
      "toc_visible": true
    },
    "kernelspec": {
      "name": "python3",
      "display_name": "Python 3"
    }
  },
  "cells": [
    {
      "cell_type": "code",
      "metadata": {
        "id": "KwqXOwy7Ond5",
        "colab": {
          "base_uri": "https://localhost:8080/"
        },
        "outputId": "dc9322f1-1543-4acf-897b-65e001cd7f0a"
      },
      "source": [
        "from google.colab import drive \n",
        "drive.mount('/content/drive')"
      ],
      "execution_count": null,
      "outputs": [
        {
          "output_type": "stream",
          "text": [
            "Mounted at /content/drive\n"
          ],
          "name": "stdout"
        }
      ]
    },
    {
      "cell_type": "code",
      "metadata": {
        "id": "qNdGce5tO0SK"
      },
      "source": [
        "!cp /content/drive/'My Drive'/DeepLearning/AI_Australia_Assignment/img_info.csv ."
      ],
      "execution_count": null,
      "outputs": []
    },
    {
      "cell_type": "code",
      "metadata": {
        "id": "3VbJfBlBX6b-"
      },
      "source": [
        "import pandas as pd\n",
        "import pathlib\n",
        "import shutil\n",
        "import tempfile\n",
        "import tensorflow as tf\n",
        "import numpy as np\n",
        "import matplotlib.pyplot as plt\n",
        "import seaborn as sb\n",
        "import statistics "
      ],
      "execution_count": null,
      "outputs": []
    },
    {
      "cell_type": "code",
      "metadata": {
        "id": "kctbUocSXunn"
      },
      "source": [
        "train_df = pd.read_csv(\"./img_info.csv\")"
      ],
      "execution_count": null,
      "outputs": []
    },
    {
      "cell_type": "code",
      "metadata": {
        "id": "ZuN6w9d2WkOy"
      },
      "source": [
        "# Creating the lips_distance/under_lip_thickness column\n",
        "train_df['percent'] = train_df.apply(lambda row: (row.lips_distance / row.under_lip_thickness), axis=1) "
      ],
      "execution_count": null,
      "outputs": []
    },
    {
      "cell_type": "code",
      "metadata": {
        "id": "qXpj5JdSYLXl"
      },
      "source": [
        "# Drop the irrelevant columns: under_lip_thickness, lips_distance\n",
        "train_df.drop(['under_lip_thickness', 'lips_distance'], axis=1, inplace=True)\n"
      ],
      "execution_count": null,
      "outputs": []
    },
    {
      "cell_type": "code",
      "metadata": {
        "colab": {
          "base_uri": "https://localhost:8080/"
        },
        "id": "40s21zaHYQb-",
        "outputId": "ac519d79-448c-4bcc-eeb2-68721bdca823"
      },
      "source": [
        "train_df.columns"
      ],
      "execution_count": null,
      "outputs": [
        {
          "output_type": "execute_result",
          "data": {
            "text/plain": [
              "Index(['img_name', 'smile', 'teeth', 'percent'], dtype='object')"
            ]
          },
          "metadata": {
            "tags": []
          },
          "execution_count": 7
        }
      ]
    },
    {
      "cell_type": "markdown",
      "metadata": {
        "id": "xNwrlOsULPmN"
      },
      "source": [
        "# Explore the data\n",
        "In order to detect the teeth, we look at the smile index ('smile') and the ratio between lips distance and under lip thickness ('percent').\n",
        "We can't simply look at the distance between upper and under lips, as the sizes of pictures are different. "
      ]
    },
    {
      "cell_type": "code",
      "metadata": {
        "colab": {
          "base_uri": "https://localhost:8080/",
          "height": 204
        },
        "id": "xFHlnvwceiI9",
        "outputId": "86ef8aa0-90f6-4892-b21b-c10c550d8ebc"
      },
      "source": [
        "train_df.head()"
      ],
      "execution_count": null,
      "outputs": [
        {
          "output_type": "execute_result",
          "data": {
            "text/html": [
              "<div>\n",
              "<style scoped>\n",
              "    .dataframe tbody tr th:only-of-type {\n",
              "        vertical-align: middle;\n",
              "    }\n",
              "\n",
              "    .dataframe tbody tr th {\n",
              "        vertical-align: top;\n",
              "    }\n",
              "\n",
              "    .dataframe thead th {\n",
              "        text-align: right;\n",
              "    }\n",
              "</style>\n",
              "<table border=\"1\" class=\"dataframe\">\n",
              "  <thead>\n",
              "    <tr style=\"text-align: right;\">\n",
              "      <th></th>\n",
              "      <th>img_name</th>\n",
              "      <th>smile</th>\n",
              "      <th>teeth</th>\n",
              "      <th>percent</th>\n",
              "    </tr>\n",
              "  </thead>\n",
              "  <tbody>\n",
              "    <tr>\n",
              "      <th>0</th>\n",
              "      <td>1.jpg</td>\n",
              "      <td>0.005</td>\n",
              "      <td>0</td>\n",
              "      <td>0.466667</td>\n",
              "    </tr>\n",
              "    <tr>\n",
              "      <th>1</th>\n",
              "      <td>2.jpg</td>\n",
              "      <td>0.002</td>\n",
              "      <td>0</td>\n",
              "      <td>0.125000</td>\n",
              "    </tr>\n",
              "    <tr>\n",
              "      <th>2</th>\n",
              "      <td>3.jpg</td>\n",
              "      <td>1.000</td>\n",
              "      <td>1</td>\n",
              "      <td>0.222222</td>\n",
              "    </tr>\n",
              "    <tr>\n",
              "      <th>3</th>\n",
              "      <td>4.jpg</td>\n",
              "      <td>1.000</td>\n",
              "      <td>1</td>\n",
              "      <td>0.468085</td>\n",
              "    </tr>\n",
              "    <tr>\n",
              "      <th>4</th>\n",
              "      <td>5.jpg</td>\n",
              "      <td>1.000</td>\n",
              "      <td>1</td>\n",
              "      <td>1.228571</td>\n",
              "    </tr>\n",
              "  </tbody>\n",
              "</table>\n",
              "</div>"
            ],
            "text/plain": [
              "  img_name  smile  teeth   percent\n",
              "0    1.jpg  0.005      0  0.466667\n",
              "1    2.jpg  0.002      0  0.125000\n",
              "2    3.jpg  1.000      1  0.222222\n",
              "3    4.jpg  1.000      1  0.468085\n",
              "4    5.jpg  1.000      1  1.228571"
            ]
          },
          "metadata": {
            "tags": []
          },
          "execution_count": 8
        }
      ]
    },
    {
      "cell_type": "code",
      "metadata": {
        "colab": {
          "base_uri": "https://localhost:8080/"
        },
        "id": "LOCCA5G1VnEw",
        "outputId": "b2b94202-13b5-4235-d91b-1f1f8a474f7d"
      },
      "source": [
        "train_df['teeth'].value_counts()"
      ],
      "execution_count": null,
      "outputs": [
        {
          "output_type": "execute_result",
          "data": {
            "text/plain": [
              "1    147\n",
              "0    135\n",
              "Name: teeth, dtype: int64"
            ]
          },
          "metadata": {
            "tags": []
          },
          "execution_count": 9
        }
      ]
    },
    {
      "cell_type": "markdown",
      "metadata": {
        "id": "0Gbgdn6RZRci"
      },
      "source": [
        "## Exploring the correlation among attributes using heatmap"
      ]
    },
    {
      "cell_type": "code",
      "metadata": {
        "colab": {
          "base_uri": "https://localhost:8080/",
          "height": 476
        },
        "id": "Nao0XXzdVw1L",
        "outputId": "c6d270e2-c354-42a5-ed71-01fcb5247fdb"
      },
      "source": [
        "correlations = train_df.corr()\n",
        "# Set up the matplotlib figure\n",
        "f, ax = plt.subplots(figsize=(8, 8))\n",
        "# Draw the heatmap with the mask and correct aspect ratio\n",
        "sb.heatmap(correlations, cmap=\"RdBu\", center=0, vmin=-1, vmax=1, square=True)\n",
        "plt.show()"
      ],
      "execution_count": null,
      "outputs": [
        {
          "output_type": "display_data",
          "data": {
            "image/png": "[encoded data removed]",
            "text/plain": [
              "<Figure size 576x576 with 2 Axes>"
            ]
          },
          "metadata": {
            "tags": [],
            "needs_background": "light"
          }
        }
      ]
    },
    {
      "cell_type": "markdown",
      "metadata": {
        "id": "3_U9VAeWkgu8"
      },
      "source": [
        "### Observation\n",
        "There's a higher correlation between 'teeth' and 'percent' than between 'teeth' and 'smile'. "
      ]
    },
    {
      "cell_type": "markdown",
      "metadata": {
        "id": "ZTaTHyBKa2zz"
      },
      "source": [
        "## Exploring the distribution among 'smile'"
      ]
    },
    {
      "cell_type": "code",
      "metadata": {
        "colab": {
          "base_uri": "https://localhost:8080/",
          "height": 296
        },
        "id": "rSQXc8DOXhMb",
        "outputId": "135d2dec-e6e7-4a4b-af46-a607ad32e520"
      },
      "source": [
        "%matplotlib inline\n",
        "x = train_df['smile'].tolist()\n",
        "# plt.hist(x, density=True, bins=20)  # density=False would make counts\n",
        "plt.hist(x, density=False, bins=20)  # density=False would make counts\n",
        "plt.ylabel('Counts')\n",
        "plt.xlabel('Smile')"
      ],
      "execution_count": null,
      "outputs": [
        {
          "output_type": "execute_result",
          "data": {
            "text/plain": [
              "Text(0.5, 0, 'Smile')"
            ]
          },
          "metadata": {
            "tags": []
          },
          "execution_count": 11
        },
        {
          "output_type": "display_data",
          "data": {
            "image/png": "[encoded data removed]",
            "text/plain": [
              "<Figure size 432x288 with 1 Axes>"
            ]
          },
          "metadata": {
            "tags": [],
            "needs_background": "light"
          }
        }
      ]
    },
    {
      "cell_type": "markdown",
      "metadata": {
        "id": "sanOcLQ5f-mQ"
      },
      "source": [
        "## Exploring the distribution among 'percent'"
      ]
    },
    {
      "cell_type": "code",
      "metadata": {
        "colab": {
          "base_uri": "https://localhost:8080/",
          "height": 296
        },
        "id": "0XYMocKnfbm-",
        "outputId": "a51270b6-e425-450c-e49b-48222294b892"
      },
      "source": [
        "x = train_df['percent'].tolist()\n",
        "# plt.hist(x, density=True, bins=20)  # density=False would make counts\n",
        "plt.hist(x, density=False, bins=20)  # density=False would make counts\n",
        "plt.ylabel('Counts')\n",
        "plt.xlabel('Percent')"
      ],
      "execution_count": null,
      "outputs": [
        {
          "output_type": "execute_result",
          "data": {
            "text/plain": [
              "Text(0.5, 0, 'Percent')"
            ]
          },
          "metadata": {
            "tags": []
          },
          "execution_count": 12
        },
        {
          "output_type": "display_data",
          "data": {
            "image/png": "[encoded data removed]",
            "text/plain": [
              "<Figure size 432x288 with 1 Axes>"
            ]
          },
          "metadata": {
            "tags": [],
            "needs_background": "light"
          }
        }
      ]
    },
    {
      "cell_type": "markdown",
      "metadata": {
        "id": "7bf0MVvjnGm_"
      },
      "source": [
        "'percent' and 'smile' are in a similar range, so I'll skip data normalisation. "
      ]
    },
    {
      "cell_type": "markdown",
      "metadata": {
        "id": "xfKxkdeIo9H9"
      },
      "source": [
        "# Training setup"
      ]
    },
    {
      "cell_type": "markdown",
      "metadata": {
        "id": "kCLhRad5pCHE"
      },
      "source": [
        "## Cross validation \n",
        "Given a limited amount of data set, with cross validation, we can miximize the number of data entries in both training set and validation set. It gives us a better representation of how well the model works than simply selecting a fixed portion out of the data set as validation set and the rest as trainning set."
      ]
    },
    {
      "cell_type": "code",
      "metadata": {
        "id": "XzE9_gXPgIWU"
      },
      "source": [
        "from sklearn import model_selection"
      ],
      "execution_count": null,
      "outputs": []
    },
    {
      "cell_type": "code",
      "metadata": {
        "id": "7B2oUvP3qIPu"
      },
      "source": [
        "number_split = 6\n",
        "kFold = model_selection.KFold(n_splits=number_split, shuffle=True, random_state = 3)"
      ],
      "execution_count": null,
      "outputs": []
    },
    {
      "cell_type": "markdown",
      "metadata": {
        "id": "scptk9oBrOAZ"
      },
      "source": [
        "## Metric: accuracy score\n",
        "This is a binary classification. False positive or false negative doesn't come at a higher cost than one another, so we pick accuracy score as our evaluation metric. \n",
        "\n",
        " "
      ]
    },
    {
      "cell_type": "code",
      "metadata": {
        "id": "EexKIBniqPlh"
      },
      "source": [
        "from sklearn.metrics import accuracy_score"
      ],
      "execution_count": null,
      "outputs": []
    },
    {
      "cell_type": "markdown",
      "metadata": {
        "id": "fFpItwLsyMbF"
      },
      "source": [
        "## Splitting attributes and predictions as X,Y"
      ]
    },
    {
      "cell_type": "code",
      "metadata": {
        "id": "h7_jGucWy7Tc"
      },
      "source": [
        "Train_X = train_df[['smile','percent']]\n",
        "Train_Y = train_df['teeth']"
      ],
      "execution_count": null,
      "outputs": []
    },
    {
      "cell_type": "markdown",
      "metadata": {
        "id": "OV0vvRBvsSS5"
      },
      "source": [
        "# Start training "
      ]
    },
    {
      "cell_type": "markdown",
      "metadata": {
        "id": "JxA5TWOIwIO7"
      },
      "source": [
        "## Algorithm choice: Logistic regression for this binary classification task. "
      ]
    },
    {
      "cell_type": "code",
      "metadata": {
        "id": "QRYFyT9WsWbo"
      },
      "source": [
        "from sklearn.linear_model import LogisticRegression"
      ],
      "execution_count": null,
      "outputs": []
    },
    {
      "cell_type": "code",
      "metadata": {
        "colab": {
          "base_uri": "https://localhost:8080/"
        },
        "id": "nT6eAlzjw9sr",
        "outputId": "79331c4a-6c8e-47c3-dc5a-f1cfe70a0762"
      },
      "source": [
        "Results_Val=[]  # For storing result from the validation set\n",
        "Results_Train=[] # For storing result from the Training set\n",
        "\n",
        "for trainIndex, valIndex in kFold.split(Train_X):\n",
        "  # Get the training and validation data\n",
        "  train_x = Train_X.loc[trainIndex]\n",
        "  train_y = Train_Y.loc[trainIndex]\n",
        "  valid_x = Train_X.loc[valIndex]\n",
        "  valid_y = Train_Y.loc[valIndex]\n",
        "\n",
        "  # Fit the model\n",
        "  lr = LogisticRegression(random_state=1).fit(train_x, train_y)\n",
        "  # For validation set\n",
        "  val_pred_Y = lr.predict(valid_x)\n",
        "  val_accuracy = accuracy_score(valid_y, val_pred_Y)\n",
        "  Results_Val.append(val_accuracy)\n",
        "\n",
        "  # For training set\n",
        "  train_pred_Y = lr.predict(train_x)\n",
        "  train_accuracy = accuracy_score(train_y, train_pred_Y)\n",
        "  Results_Train.append(train_accuracy)\n",
        "\n",
        "# Calculate the mean of results after this 10-fold cross validation for training set and validation set.\n",
        "mean_train = statistics.mean(Results_Train)\n",
        "print('Mean of train set accuracy: ', mean_train)\n",
        "mean_val = statistics.mean(Results_Val)\n",
        "print('Mean of validation set accuracy: ', mean_val)\n"
      ],
      "execution_count": null,
      "outputs": [
        {
          "output_type": "stream",
          "text": [
            "Mean of train set accuracy:  0.8978723404255319\n",
            "Mean of validation set accuracy:  0.8971631205673759\n"
          ],
          "name": "stdout"
        }
      ]
    },
    {
      "cell_type": "markdown",
      "metadata": {
        "id": "7g9FLzZz6fmO"
      },
      "source": [
        "### Observation\n",
        "The training set and the validation set have similar accuracy "
      ]
    },
    {
      "cell_type": "code",
      "metadata": {
        "id": "PkRt9wmfw9kf"
      },
      "source": [
        "# Saving the model\n",
        "import pickle\n",
        "filename = 'saved_model.sav'\n",
        "pickle.dump(lr, open(filename, 'wb'))\n",
        "\n",
        "# Saving the model to local disk\n",
        "!cp -r ./saved_model.sav /content/drive/'My Drive'/DeepLearning/AI_Australia_Assignment/"
      ],
      "execution_count": null,
      "outputs": []
    },
    {
      "cell_type": "code",
      "metadata": {
        "id": "o2ndXoXsw9c3"
      },
      "source": [
        "# some time later...\n",
        "# Loading the model from local disk\n",
        "!cp -r /content/drive/'My Drive'/DeepLearning/AI_Australia_Assignment/saved_model.sav .\n",
        "\n",
        "loaded_model = pickle.load(open(filename, 'rb'))"
      ],
      "execution_count": null,
      "outputs": []
    },
    {
      "cell_type": "code",
      "metadata": {
        "id": "p-b-Dez9DdH4"
      },
      "source": [
        "def predict_teeth(my_model, smile, percent):\n",
        "  # Given 'smile' and 'percent', predict whether teeth is detected.\n",
        "  my_array = [[smile, percent]]\n",
        "  result = my_model.predict(my_array)\n",
        "  return result[0]"
      ],
      "execution_count": null,
      "outputs": []
    },
    {
      "cell_type": "code",
      "metadata": {
        "colab": {
          "base_uri": "https://localhost:8080/"
        },
        "id": "0lCOh3W-Bfom",
        "outputId": "45f04b20-56dc-40b8-87bf-697cb1f742fd"
      },
      "source": [
        "predict_teeth(loaded_model, 1, 0.6)"
      ],
      "execution_count": null,
      "outputs": [
        {
          "output_type": "execute_result",
          "data": {
            "text/plain": [
              "1"
            ]
          },
          "metadata": {
            "tags": []
          },
          "execution_count": 85
        }
      ]
    },
    {
      "cell_type": "code",
      "metadata": {
        "id": "B5uybl1WG1KB"
      },
      "source": [
        ""
      ],
      "execution_count": null,
      "outputs": []
    }
  ]
}