{
 "cells": [
  {
   "cell_type": "code",
   "execution_count": 62,
   "metadata": {},
   "outputs": [],
   "source": [
    "# Importing modules \n",
    "import sys\n",
    "sys.path.append('scrape')\n",
    "from scrape_linkedIn import *\n",
    "\n",
    "import sys\n",
    "sys.path.append('/')\n",
    "from functions import *\n",
    "from blur_and_teeth import *"
   ]
  },
  {
   "cell_type": "code",
   "execution_count": 63,
   "metadata": {},
   "outputs": [],
   "source": [
    "# Unimport a module\n",
    "#sys.modules.pop('blur_and_teeth')"
   ]
  },
  {
   "cell_type": "code",
   "execution_count": 64,
   "metadata": {},
   "outputs": [],
   "source": [
    "# Given the LinedIn profile url, retrieve the img url\n",
    "def save_img(img_url):\n",
    "    response = requests.get(img_url)\n",
    "    img = Image.open(BytesIO(response.content))\n",
    "    img_file_path = 'Saved_images/profile_pic.jpg'\n",
    "    img.save(img_file_path)"
   ]
  },
  {
   "cell_type": "code",
   "execution_count": 65,
   "metadata": {},
   "outputs": [],
   "source": [
    "# Creating functions to process a profile url\n",
    "def process_profileURL(sample_url):\n",
    "    returned_info = dict()\n",
    "    # If the profile picture is empty, then catch the Exception\n",
    "    try:\n",
    "        img_url = get_img_url(driver, sample_url)\n",
    "    except:\n",
    "        print(\"Oops! No profile picture...\")\n",
    "        return returned_info\n",
    "\n",
    "    # Save the img for later process in blur\n",
    "    save_img(img_url)\n",
    "\n",
    "    # Return the detected face\n",
    "    detected_faces = get_faceDict(img_url)\n",
    "\n",
    "    try:\n",
    "        assert(len(detected_faces)>0)\n",
    "    except:\n",
    "        print('Oops...No face detected from image!')\n",
    "        return returned_info\n",
    "\n",
    "    # Assume that there's only one face detected in a linkIn profile\n",
    "    face_dict = detected_faces[0]\n",
    "\n",
    "    # Load the img from local disk\n",
    "    img_path = \"Saved_images/profile_pic.jpg\"\n",
    "    img = load_img(img_path)\n",
    "\n",
    "    # Teeth detection\n",
    "    teeth = detect_teeth(face_detector, img, landmark_detector)\n",
    "    returned_info['teeth'] = teeth\n",
    "    print('Teeth detected: ', teeth)\n",
    "\n",
    "    # Face big enough?\n",
    "    face_big = face_big_enough(face_detector, img, landmark_detector)\n",
    "    returned_info['face_big'] = face_big\n",
    "    print(\"Face big enough? \", face_big)\n",
    "\n",
    "    # Detect emotion\n",
    "    my_emotion = process_emotions(face_dict)\n",
    "    returned_info['emotion'] = my_emotion\n",
    "    print(\"Emotion: \", my_emotion)\n",
    "\n",
    "    # Blur the background from the face\n",
    "    blur_it(img, 8, face_detector, landmark_detector)\n",
    "    return returned_info\n"
   ]
  },
  {
   "cell_type": "code",
   "execution_count": 66,
   "metadata": {},
   "outputs": [],
   "source": [
    "# Set up the driver and login \n",
    "DRIVER_PATH = '/Users/chenlang/Documents/ChromeDriver/chromedriver'\n",
    "driver = webdriver.Chrome(executable_path=DRIVER_PATH)\n",
    "sign_in(driver)"
   ]
  },
  {
   "cell_type": "code",
   "execution_count": 67,
   "metadata": {},
   "outputs": [],
   "source": [
    "# Change sample_url to the profile url you want.\n",
    "URL_1 = 'https://www.linkedin.com/in/alexcsmith/'\n",
    "URL_2 = \"https://www.linkedin.com/in/linda-jia-3062324a/\"\n",
    "URL_3 ='https://www.linkedin.com/in/trista-xun-wang/'\n",
    "URL_4 = 'https://www.linkedin.com/in/aaron-smith-ba251b3/'"
   ]
  },
  {
   "cell_type": "code",
   "execution_count": 71,
   "metadata": {},
   "outputs": [
    {
     "name": "stdout",
     "output_type": "stream",
     "text": [
      "Aaron Smith | LinkedIn\n",
      "Oops! No profile picture...\n"
     ]
    }
   ],
   "source": [
    "pic_info = process_profileURL(URL_4)"
   ]
  },
  {
   "cell_type": "code",
   "execution_count": null,
   "metadata": {},
   "outputs": [],
   "source": []
  }
 ],
 "metadata": {
  "kernelspec": {
   "display_name": "env39",
   "language": "python",
   "name": "env39"
  },
  "language_info": {
   "codemirror_mode": {
    "name": "ipython",
    "version": 3
   },
   "file_extension": ".py",
   "mimetype": "text/x-python",
   "name": "python",
   "nbconvert_exporter": "python",
   "pygments_lexer": "ipython3",
   "version": "3.9.1"
  }
 },
 "nbformat": 4,
 "nbformat_minor": 4
}
