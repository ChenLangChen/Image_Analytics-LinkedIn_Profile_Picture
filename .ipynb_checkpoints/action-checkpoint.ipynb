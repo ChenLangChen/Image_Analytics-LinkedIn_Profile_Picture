{
 "cells": [
  {
   "cell_type": "code",
   "execution_count": 7,
   "metadata": {},
   "outputs": [],
   "source": [
    "# Importing modules \n",
    "import sys\n",
    "sys.path.append('scrape')\n",
    "from scrape_linkedIn import *\n",
    "\n",
    "import sys\n",
    "sys.path.append('/')\n",
    "from functions import *\n",
    "from blur_and_teeth import *"
   ]
  },
  {
   "cell_type": "code",
   "execution_count": 6,
   "metadata": {},
   "outputs": [
    {
     "data": {
      "text/plain": [
       "<module 'blur_and_teeth' from '/Users/chenlang/Desktop/AI Australia/For_Git/blur_and_teeth.py'>"
      ]
     },
     "execution_count": 6,
     "metadata": {},
     "output_type": "execute_result"
    }
   ],
   "source": [
    "# Unimport a module\n",
    "# sys.modules.pop('blur_and_teeth')"
   ]
  },
  {
   "cell_type": "code",
   "execution_count": 8,
   "metadata": {},
   "outputs": [],
   "source": [
    "# Given the LinedIn profile url, retrieve the img url\n",
    "def save_img(img_url):\n",
    "    response = requests.get(img_url)\n",
    "    img = Image.open(BytesIO(response.content))\n",
    "    img_file_path = 'Saved_images/profile_pic.jpg'\n",
    "    img.save(img_file_path)"
   ]
  },
  {
   "cell_type": "code",
   "execution_count": 9,
   "metadata": {},
   "outputs": [],
   "source": [
    "# Creating functions to process a profile url\n",
    "def process_profileURL(sample_url):\n",
    "    returned_info = dict()\n",
    "    # If the profile picture is empty, then catch the Exception\n",
    "    try:\n",
    "        img_url = get_img_url(driver, sample_url)\n",
    "    except:\n",
    "        print(\"Oops! No profile picture...\")\n",
    "        return returned_info\n",
    "\n",
    "    # Save the img for later process in blur\n",
    "    save_img(img_url)\n",
    "\n",
    "    # Return the detected face\n",
    "    detected_faces = get_faceDict(img_url)\n",
    "\n",
    "    try:\n",
    "        assert(len(detected_faces)>0)\n",
    "    except:\n",
    "        print('Oops...No face detected from image!')\n",
    "        return returned_info\n",
    "\n",
    "    # Assume that there's only one face detected in a linkIn profile\n",
    "    face_dict = detected_faces[0]\n",
    "\n",
    "    # Load the img from local disk\n",
    "    img_path = \"Saved_images/profile_pic.jpg\"\n",
    "    img = load_img(img_path)\n",
    "\n",
    "    # Teeth detection\n",
    "    teeth = detect_teeth(face_detector, img, landmark_detector)\n",
    "    returned_info['teeth'] = teeth\n",
    "    print('Teeth detected: ', teeth)\n",
    "\n",
    "    # Face big enough?\n",
    "    face_big = face_big_enough(face_detector, img, landmark_detector)\n",
    "    returned_info['face_big'] = face_big\n",
    "    print(\"Face big enough? \", face_big)\n",
    "\n",
    "    # Detect emotion\n",
    "    my_emotion = process_emotions(face_dict)\n",
    "    returned_info['emotion'] = my_emotion\n",
    "    print(\"Emotion: \", my_emotion)\n",
    "\n",
    "    # Blur the background from the face\n",
    "    blur_it(img, 8, face_detector, landmark_detector)\n",
    "    return returned_info\n"
   ]
  },
  {
   "cell_type": "code",
   "execution_count": 25,
   "metadata": {},
   "outputs": [],
   "source": [
    "# Set up the driver and login \n",
    "DRIVER_PATH = '/Users/chenlang/Documents/ChromeDriver/chromedriver'\n",
    "driver = webdriver.Chrome(executable_path=DRIVER_PATH)\n",
    "sign_in(driver)"
   ]
  },
  {
   "cell_type": "code",
   "execution_count": 14,
   "metadata": {},
   "outputs": [],
   "source": [
    "# Change sample_url to the profile url you want.\n",
    "sample_url = 'https://www.linkedin.com/in/alexcsmith/'"
   ]
  },
  {
   "cell_type": "code",
   "execution_count": 27,
   "metadata": {},
   "outputs": [],
   "source": [
    "pic_info = process_profileURL(sample_url)"
   ]
  },
  {
   "cell_type": "code",
   "execution_count": null,
   "metadata": {},
   "outputs": [],
   "source": []
  }
 ],
 "metadata": {
  "kernelspec": {
   "display_name": "env39",
   "language": "python",
   "name": "env39"
  },
  "language_info": {
   "codemirror_mode": {
    "name": "ipython",
    "version": 3
   },
   "file_extension": ".py",
   "mimetype": "text/x-python",
   "name": "python",
   "nbconvert_exporter": "python",
   "pygments_lexer": "ipython3",
   "version": "3.9.1"
  }
 },
 "nbformat": 4,
 "nbformat_minor": 4
}
